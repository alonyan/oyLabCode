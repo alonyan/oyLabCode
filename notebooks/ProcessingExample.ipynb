{
 "cells": [
  {
   "cell_type": "code",
   "execution_count": 14,
   "metadata": {},
   "outputs": [
    {
     "name": "stdout",
     "output_type": "stream",
     "text": [
      "The autoreload extension is already loaded. To reload it, use:\n",
      "  %reload_ext autoreload\n",
      "['/home/alon/Repos/oyLabCode/Processing', '/home/alon/.conda/envs/oyproc/lib/python38.zip', '/home/alon/.conda/envs/oyproc/lib/python3.8', '/home/alon/.conda/envs/oyproc/lib/python3.8/lib-dynload', '', '/home/alon/.conda/envs/oyproc/lib/python3.8/site-packages', '/home/alon/.conda/envs/oyproc/lib/python3.8/site-packages/IPython/extensions', '/home/alon/.ipython', '/home/alon/Repos/']\n"
     ]
    }
   ],
   "source": [
    "%load_ext autoreload\n",
    "%autoreload 2\n",
    "%gui qt\n",
    "\n",
    "import sys\n",
    "import os\n",
    "\n",
    "import numpy as np\n",
    "nb_dir = '/home/alon/Repos/'\n",
    "if nb_dir not in sys.path:\n",
    "    sys.path.append(nb_dir)\n",
    "print(sys.path)\n",
    "\n",
    "import matplotlib.pyplot as plt"
   ]
  },
  {
   "cell_type": "code",
   "execution_count": 2,
   "metadata": {},
   "outputs": [
    {
     "name": "stdout",
     "output_type": "stream",
     "text": [
      "loaded Metadata from pickle file\n"
     ]
    }
   ],
   "source": [
    "fpath = '/bigstore/Images2019/Jen/NFkBDynamics/TNFTitr_HighMOI_Dec122019_2019Dec12/acq_2'\n",
    "from oyLabCode import Metadata\n",
    "MD = Metadata(fpath)"
   ]
  },
  {
   "cell_type": "code",
   "execution_count": 10,
   "metadata": {},
   "outputs": [
    {
     "data": {
      "text/html": [
       "<div>\n",
       "<style scoped>\n",
       "    .dataframe tbody tr th:only-of-type {\n",
       "        vertical-align: middle;\n",
       "    }\n",
       "\n",
       "    .dataframe tbody tr th {\n",
       "        vertical-align: top;\n",
       "    }\n",
       "\n",
       "    .dataframe thead th {\n",
       "        text-align: right;\n",
       "    }\n",
       "</style>\n",
       "<table border=\"1\" class=\"dataframe\">\n",
       "  <thead>\n",
       "    <tr style=\"text-align: right;\">\n",
       "      <th></th>\n",
       "      <th>acq</th>\n",
       "      <th>Position</th>\n",
       "      <th>frame</th>\n",
       "      <th>Channel</th>\n",
       "      <th>Marker</th>\n",
       "      <th>Fluorophore</th>\n",
       "      <th>group</th>\n",
       "      <th>XY</th>\n",
       "      <th>Z</th>\n",
       "      <th>Zindex</th>\n",
       "      <th>Exposure</th>\n",
       "      <th>PixelSize</th>\n",
       "      <th>PlateType</th>\n",
       "      <th>TimestampFrame</th>\n",
       "      <th>TimestampImage</th>\n",
       "      <th>filename</th>\n",
       "      <th>FlatField</th>\n",
       "      <th>Skip</th>\n",
       "      <th>driftTform</th>\n",
       "      <th>root_pth</th>\n",
       "    </tr>\n",
       "  </thead>\n",
       "  <tbody>\n",
       "    <tr>\n",
       "      <th>0</th>\n",
       "      <td>acq_2</td>\n",
       "      <td>B02</td>\n",
       "      <td>1</td>\n",
       "      <td>DeepBlue</td>\n",
       "      <td>Nuclei</td>\n",
       "      <td>Hoechst</td>\n",
       "      <td>B02</td>\n",
       "      <td>[-83110.0, -3142.0]</td>\n",
       "      <td>12.375</td>\n",
       "      <td>1</td>\n",
       "      <td>30</td>\n",
       "      <td>0.547619</td>\n",
       "      <td>Costar96 (3904)</td>\n",
       "      <td>737771.600206</td>\n",
       "      <td>737771.600179</td>\n",
       "      <td>/bigstore/Images2019/Jen/NFkBDynamics/TNFTitr_...</td>\n",
       "      <td>NaN</td>\n",
       "      <td>1</td>\n",
       "      <td>[1, 0, 0, 0, 1, 0, 0.0, 0.0, 1]</td>\n",
       "      <td>Pos0/img_B02_000000001_000000000_DeepBlue_000_...</td>\n",
       "    </tr>\n",
       "    <tr>\n",
       "      <th>1</th>\n",
       "      <td>acq_2</td>\n",
       "      <td>B02</td>\n",
       "      <td>1</td>\n",
       "      <td>Green</td>\n",
       "      <td>Prolif</td>\n",
       "      <td>CellTrackerGreen</td>\n",
       "      <td>B02</td>\n",
       "      <td>[-83110.0, -3142.0]</td>\n",
       "      <td>12.375</td>\n",
       "      <td>1</td>\n",
       "      <td>5</td>\n",
       "      <td>0.547619</td>\n",
       "      <td>Costar96 (3904)</td>\n",
       "      <td>737771.600206</td>\n",
       "      <td>737771.600206</td>\n",
       "      <td>/bigstore/Images2019/Jen/NFkBDynamics/TNFTitr_...</td>\n",
       "      <td>NaN</td>\n",
       "      <td>1</td>\n",
       "      <td>[1, 0, 0, 0, 1, 0, 0.0, 0.0, 1]</td>\n",
       "      <td>Pos0/img_B02_000000001_000000000_Green_000_001...</td>\n",
       "    </tr>\n",
       "    <tr>\n",
       "      <th>2</th>\n",
       "      <td>acq_2</td>\n",
       "      <td>B02</td>\n",
       "      <td>1</td>\n",
       "      <td>Red</td>\n",
       "      <td>HSV-1</td>\n",
       "      <td>mCherry</td>\n",
       "      <td>B02</td>\n",
       "      <td>[-83110.0, -3142.0]</td>\n",
       "      <td>12.375</td>\n",
       "      <td>1</td>\n",
       "      <td>115</td>\n",
       "      <td>0.547619</td>\n",
       "      <td>Costar96 (3904)</td>\n",
       "      <td>737771.600206</td>\n",
       "      <td>737771.600233</td>\n",
       "      <td>/bigstore/Images2019/Jen/NFkBDynamics/TNFTitr_...</td>\n",
       "      <td>NaN</td>\n",
       "      <td>1</td>\n",
       "      <td>[1, 0, 0, 0, 1, 0, 0.0, 0.0, 1]</td>\n",
       "      <td>Pos0/img_B02_000000001_000000000_Red_000_001.tif</td>\n",
       "    </tr>\n",
       "    <tr>\n",
       "      <th>3</th>\n",
       "      <td>acq_2</td>\n",
       "      <td>C02</td>\n",
       "      <td>1</td>\n",
       "      <td>DeepBlue</td>\n",
       "      <td>Nuclei</td>\n",
       "      <td>Hoechst</td>\n",
       "      <td>C02</td>\n",
       "      <td>[-83111.0, 5880.0]</td>\n",
       "      <td>9.475</td>\n",
       "      <td>1</td>\n",
       "      <td>30</td>\n",
       "      <td>0.547619</td>\n",
       "      <td>Costar96 (3904)</td>\n",
       "      <td>737771.600323</td>\n",
       "      <td>737771.600296</td>\n",
       "      <td>/bigstore/Images2019/Jen/NFkBDynamics/TNFTitr_...</td>\n",
       "      <td>NaN</td>\n",
       "      <td>1</td>\n",
       "      <td>[1, 0, 0, 0, 1, 0, 0.0, 0.0, 1]</td>\n",
       "      <td>Pos1/img_C02_000000001_000000000_DeepBlue_000_...</td>\n",
       "    </tr>\n",
       "    <tr>\n",
       "      <th>4</th>\n",
       "      <td>acq_2</td>\n",
       "      <td>C02</td>\n",
       "      <td>1</td>\n",
       "      <td>Green</td>\n",
       "      <td>Prolif</td>\n",
       "      <td>CellTrackerGreen</td>\n",
       "      <td>C02</td>\n",
       "      <td>[-83111.0, 5880.0]</td>\n",
       "      <td>9.475</td>\n",
       "      <td>1</td>\n",
       "      <td>5</td>\n",
       "      <td>0.547619</td>\n",
       "      <td>Costar96 (3904)</td>\n",
       "      <td>737771.600323</td>\n",
       "      <td>737771.600322</td>\n",
       "      <td>/bigstore/Images2019/Jen/NFkBDynamics/TNFTitr_...</td>\n",
       "      <td>NaN</td>\n",
       "      <td>1</td>\n",
       "      <td>[1, 0, 0, 0, 1, 0, 0.0, 0.0, 1]</td>\n",
       "      <td>Pos1/img_C02_000000001_000000000_Green_000_001...</td>\n",
       "    </tr>\n",
       "    <tr>\n",
       "      <th>...</th>\n",
       "      <td>...</td>\n",
       "      <td>...</td>\n",
       "      <td>...</td>\n",
       "      <td>...</td>\n",
       "      <td>...</td>\n",
       "      <td>...</td>\n",
       "      <td>...</td>\n",
       "      <td>...</td>\n",
       "      <td>...</td>\n",
       "      <td>...</td>\n",
       "      <td>...</td>\n",
       "      <td>...</td>\n",
       "      <td>...</td>\n",
       "      <td>...</td>\n",
       "      <td>...</td>\n",
       "      <td>...</td>\n",
       "      <td>...</td>\n",
       "      <td>...</td>\n",
       "      <td>...</td>\n",
       "      <td>...</td>\n",
       "    </tr>\n",
       "    <tr>\n",
       "      <th>26095</th>\n",
       "      <td>acq_2</td>\n",
       "      <td>F11</td>\n",
       "      <td>145</td>\n",
       "      <td>Green</td>\n",
       "      <td>Prolif</td>\n",
       "      <td>CellTrackerGreen</td>\n",
       "      <td>F11</td>\n",
       "      <td>[-1931.0, 32941.0]</td>\n",
       "      <td>30.450</td>\n",
       "      <td>1</td>\n",
       "      <td>5</td>\n",
       "      <td>0.547619</td>\n",
       "      <td>Costar96 (3904)</td>\n",
       "      <td>737773.607169</td>\n",
       "      <td>737773.607169</td>\n",
       "      <td>/bigstore/Images2019/Jen/NFkBDynamics/TNFTitr_...</td>\n",
       "      <td>NaN</td>\n",
       "      <td>1</td>\n",
       "      <td>None</td>\n",
       "      <td>Pos58/img_F11_000000145_000000144_Green_000_00...</td>\n",
       "    </tr>\n",
       "    <tr>\n",
       "      <th>26096</th>\n",
       "      <td>acq_2</td>\n",
       "      <td>F11</td>\n",
       "      <td>145</td>\n",
       "      <td>Red</td>\n",
       "      <td>HSV-1</td>\n",
       "      <td>mCherry</td>\n",
       "      <td>F11</td>\n",
       "      <td>[-1931.0, 32941.0]</td>\n",
       "      <td>30.450</td>\n",
       "      <td>1</td>\n",
       "      <td>115</td>\n",
       "      <td>0.547619</td>\n",
       "      <td>Costar96 (3904)</td>\n",
       "      <td>737773.607169</td>\n",
       "      <td>737773.607196</td>\n",
       "      <td>/bigstore/Images2019/Jen/NFkBDynamics/TNFTitr_...</td>\n",
       "      <td>NaN</td>\n",
       "      <td>1</td>\n",
       "      <td>None</td>\n",
       "      <td>Pos58/img_F11_000000145_000000144_Red_000_001.tif</td>\n",
       "    </tr>\n",
       "    <tr>\n",
       "      <th>26097</th>\n",
       "      <td>acq_2</td>\n",
       "      <td>G11</td>\n",
       "      <td>145</td>\n",
       "      <td>DeepBlue</td>\n",
       "      <td>Nuclei</td>\n",
       "      <td>Hoechst</td>\n",
       "      <td>G11</td>\n",
       "      <td>[-1931.0, 41960.0]</td>\n",
       "      <td>16.375</td>\n",
       "      <td>1</td>\n",
       "      <td>30</td>\n",
       "      <td>0.547619</td>\n",
       "      <td>Costar96 (3904)</td>\n",
       "      <td>737773.607289</td>\n",
       "      <td>737773.607261</td>\n",
       "      <td>/bigstore/Images2019/Jen/NFkBDynamics/TNFTitr_...</td>\n",
       "      <td>NaN</td>\n",
       "      <td>1</td>\n",
       "      <td>None</td>\n",
       "      <td>Pos59/img_G11_000000145_000000144_DeepBlue_000...</td>\n",
       "    </tr>\n",
       "    <tr>\n",
       "      <th>26098</th>\n",
       "      <td>acq_2</td>\n",
       "      <td>G11</td>\n",
       "      <td>145</td>\n",
       "      <td>Green</td>\n",
       "      <td>Prolif</td>\n",
       "      <td>CellTrackerGreen</td>\n",
       "      <td>G11</td>\n",
       "      <td>[-1931.0, 41960.0]</td>\n",
       "      <td>16.375</td>\n",
       "      <td>1</td>\n",
       "      <td>5</td>\n",
       "      <td>0.547619</td>\n",
       "      <td>Costar96 (3904)</td>\n",
       "      <td>737773.607289</td>\n",
       "      <td>737773.607286</td>\n",
       "      <td>/bigstore/Images2019/Jen/NFkBDynamics/TNFTitr_...</td>\n",
       "      <td>NaN</td>\n",
       "      <td>1</td>\n",
       "      <td>None</td>\n",
       "      <td>Pos59/img_G11_000000145_000000144_Green_000_00...</td>\n",
       "    </tr>\n",
       "    <tr>\n",
       "      <th>26099</th>\n",
       "      <td>acq_2</td>\n",
       "      <td>G11</td>\n",
       "      <td>145</td>\n",
       "      <td>Red</td>\n",
       "      <td>HSV-1</td>\n",
       "      <td>mCherry</td>\n",
       "      <td>G11</td>\n",
       "      <td>[-1931.0, 41960.0]</td>\n",
       "      <td>16.375</td>\n",
       "      <td>1</td>\n",
       "      <td>115</td>\n",
       "      <td>0.547619</td>\n",
       "      <td>Costar96 (3904)</td>\n",
       "      <td>737773.607289</td>\n",
       "      <td>737773.607319</td>\n",
       "      <td>/bigstore/Images2019/Jen/NFkBDynamics/TNFTitr_...</td>\n",
       "      <td>NaN</td>\n",
       "      <td>1</td>\n",
       "      <td>None</td>\n",
       "      <td>Pos59/img_G11_000000145_000000144_Red_000_001.tif</td>\n",
       "    </tr>\n",
       "  </tbody>\n",
       "</table>\n",
       "<p>26100 rows × 20 columns</p>\n",
       "</div>"
      ],
      "text/plain": [
       "         acq Position frame   Channel  Marker       Fluorophore group  \\\n",
       "0      acq_2      B02     1  DeepBlue  Nuclei           Hoechst   B02   \n",
       "1      acq_2      B02     1     Green  Prolif  CellTrackerGreen   B02   \n",
       "2      acq_2      B02     1       Red   HSV-1           mCherry   B02   \n",
       "3      acq_2      C02     1  DeepBlue  Nuclei           Hoechst   C02   \n",
       "4      acq_2      C02     1     Green  Prolif  CellTrackerGreen   C02   \n",
       "...      ...      ...   ...       ...     ...               ...   ...   \n",
       "26095  acq_2      F11   145     Green  Prolif  CellTrackerGreen   F11   \n",
       "26096  acq_2      F11   145       Red   HSV-1           mCherry   F11   \n",
       "26097  acq_2      G11   145  DeepBlue  Nuclei           Hoechst   G11   \n",
       "26098  acq_2      G11   145     Green  Prolif  CellTrackerGreen   G11   \n",
       "26099  acq_2      G11   145       Red   HSV-1           mCherry   G11   \n",
       "\n",
       "                        XY       Z Zindex Exposure  PixelSize  \\\n",
       "0      [-83110.0, -3142.0]  12.375      1       30   0.547619   \n",
       "1      [-83110.0, -3142.0]  12.375      1        5   0.547619   \n",
       "2      [-83110.0, -3142.0]  12.375      1      115   0.547619   \n",
       "3       [-83111.0, 5880.0]   9.475      1       30   0.547619   \n",
       "4       [-83111.0, 5880.0]   9.475      1        5   0.547619   \n",
       "...                    ...     ...    ...      ...        ...   \n",
       "26095   [-1931.0, 32941.0]  30.450      1        5   0.547619   \n",
       "26096   [-1931.0, 32941.0]  30.450      1      115   0.547619   \n",
       "26097   [-1931.0, 41960.0]  16.375      1       30   0.547619   \n",
       "26098   [-1931.0, 41960.0]  16.375      1        5   0.547619   \n",
       "26099   [-1931.0, 41960.0]  16.375      1      115   0.547619   \n",
       "\n",
       "             PlateType  TimestampFrame  TimestampImage  \\\n",
       "0      Costar96 (3904)   737771.600206   737771.600179   \n",
       "1      Costar96 (3904)   737771.600206   737771.600206   \n",
       "2      Costar96 (3904)   737771.600206   737771.600233   \n",
       "3      Costar96 (3904)   737771.600323   737771.600296   \n",
       "4      Costar96 (3904)   737771.600323   737771.600322   \n",
       "...                ...             ...             ...   \n",
       "26095  Costar96 (3904)   737773.607169   737773.607169   \n",
       "26096  Costar96 (3904)   737773.607169   737773.607196   \n",
       "26097  Costar96 (3904)   737773.607289   737773.607261   \n",
       "26098  Costar96 (3904)   737773.607289   737773.607286   \n",
       "26099  Costar96 (3904)   737773.607289   737773.607319   \n",
       "\n",
       "                                                filename  FlatField Skip  \\\n",
       "0      /bigstore/Images2019/Jen/NFkBDynamics/TNFTitr_...        NaN    1   \n",
       "1      /bigstore/Images2019/Jen/NFkBDynamics/TNFTitr_...        NaN    1   \n",
       "2      /bigstore/Images2019/Jen/NFkBDynamics/TNFTitr_...        NaN    1   \n",
       "3      /bigstore/Images2019/Jen/NFkBDynamics/TNFTitr_...        NaN    1   \n",
       "4      /bigstore/Images2019/Jen/NFkBDynamics/TNFTitr_...        NaN    1   \n",
       "...                                                  ...        ...  ...   \n",
       "26095  /bigstore/Images2019/Jen/NFkBDynamics/TNFTitr_...        NaN    1   \n",
       "26096  /bigstore/Images2019/Jen/NFkBDynamics/TNFTitr_...        NaN    1   \n",
       "26097  /bigstore/Images2019/Jen/NFkBDynamics/TNFTitr_...        NaN    1   \n",
       "26098  /bigstore/Images2019/Jen/NFkBDynamics/TNFTitr_...        NaN    1   \n",
       "26099  /bigstore/Images2019/Jen/NFkBDynamics/TNFTitr_...        NaN    1   \n",
       "\n",
       "                            driftTform  \\\n",
       "0      [1, 0, 0, 0, 1, 0, 0.0, 0.0, 1]   \n",
       "1      [1, 0, 0, 0, 1, 0, 0.0, 0.0, 1]   \n",
       "2      [1, 0, 0, 0, 1, 0, 0.0, 0.0, 1]   \n",
       "3      [1, 0, 0, 0, 1, 0, 0.0, 0.0, 1]   \n",
       "4      [1, 0, 0, 0, 1, 0, 0.0, 0.0, 1]   \n",
       "...                                ...   \n",
       "26095                             None   \n",
       "26096                             None   \n",
       "26097                             None   \n",
       "26098                             None   \n",
       "26099                             None   \n",
       "\n",
       "                                                root_pth  \n",
       "0      Pos0/img_B02_000000001_000000000_DeepBlue_000_...  \n",
       "1      Pos0/img_B02_000000001_000000000_Green_000_001...  \n",
       "2       Pos0/img_B02_000000001_000000000_Red_000_001.tif  \n",
       "3      Pos1/img_C02_000000001_000000000_DeepBlue_000_...  \n",
       "4      Pos1/img_C02_000000001_000000000_Green_000_001...  \n",
       "...                                                  ...  \n",
       "26095  Pos58/img_F11_000000145_000000144_Green_000_00...  \n",
       "26096  Pos58/img_F11_000000145_000000144_Red_000_001.tif  \n",
       "26097  Pos59/img_G11_000000145_000000144_DeepBlue_000...  \n",
       "26098  Pos59/img_G11_000000145_000000144_Green_000_00...  \n",
       "26099  Pos59/img_G11_000000145_000000144_Red_000_001.tif  \n",
       "\n",
       "[26100 rows x 20 columns]"
      ]
     },
     "execution_count": 10,
     "metadata": {},
     "output_type": "execute_result"
    }
   ],
   "source": [
    "MD()"
   ]
  },
  {
   "cell_type": "code",
   "execution_count": 85,
   "metadata": {},
   "outputs": [
    {
     "name": "stdout",
     "output_type": "stream",
     "text": [
      "opening img_B03_000000145_000000144_DeepBlue_000_001.tif\n",
      "calculating drift correction for position B03\n",
      "\n",
      "calculated drift correction for position B03\n",
      "saved metadata\n"
     ]
    }
   ],
   "source": [
    "MD.CalculateDriftCorrection(MD.posnames[0])"
   ]
  },
  {
   "cell_type": "code",
   "execution_count": 3,
   "metadata": {},
   "outputs": [
    {
     "name": "stdout",
     "output_type": "stream",
     "text": [
      "opening img_B02_000000145_000000144_DeepBlue_000_001.tif"
     ]
    }
   ],
   "source": [
    "img = MD.stkread(Position=[MD.posnames[0]],Channel='DeepBlue',register=True)\n"
   ]
  },
  {
   "cell_type": "code",
   "execution_count": 12,
   "metadata": {},
   "outputs": [],
   "source": [
    "import napari\n",
    "viewer = napari.Viewer()"
   ]
  },
  {
   "cell_type": "code",
   "execution_count": 13,
   "metadata": {},
   "outputs": [
    {
     "data": {
      "text/plain": [
       "<Image layer 'img' at 0x7feb5ef188e0>"
      ]
     },
     "execution_count": 13,
     "metadata": {},
     "output_type": "execute_result"
    }
   ],
   "source": [
    "viewer.add_image(img, rgb=False)"
   ]
  },
  {
   "cell_type": "code",
   "execution_count": 12,
   "metadata": {},
   "outputs": [
    {
     "name": "stderr",
     "output_type": "stream",
     "text": [
      "WARNING: X server does not support XInput 2\n",
      "WARNING: QXcbConnection: XCB error: 1 (BadRequest), sequence: 169, resource id: 149, major code: 130 (Unknown), minor code: 47\n"
     ]
    }
   ],
   "source": [
    "import napari\n",
    "with napari.gui_qt():\n",
    "    viewer = napari.Viewer()\n",
    "    # everything is fine so far... but if we trigger a long computation\n",
    "    viewer.add_image(img, rgb=False)"
   ]
  },
  {
   "cell_type": "code",
   "execution_count": 4,
   "metadata": {},
   "outputs": [],
   "source": [
    "from oyLabCode.Processing import results\n",
    "R = results(MD=MD)"
   ]
  },
  {
   "cell_type": "code",
   "execution_count": 5,
   "metadata": {},
   "outputs": [
    {
     "name": "stdout",
     "output_type": "stream",
     "text": [
      "['B02']\n",
      "\n",
      "Processing position B02\n"
     ]
    },
    {
     "name": "stderr",
     "output_type": "stream",
     "text": [
      "100%|██████████| 145/145 [36:26<00:00, 15.08s/it] \n"
     ]
    },
    {
     "name": "stdout",
     "output_type": "stream",
     "text": [
      "\n",
      "Finished loading and segmenting position B02\n"
     ]
    }
   ],
   "source": [
    "R.setPosLbls(MD=MD,Pos=[MD.posnames[0]],NucChannel='DeepBlue',segment_type='cellpose_nuclei')"
   ]
  },
  {
   "cell_type": "code",
   "execution_count": 6,
   "metadata": {},
   "outputs": [
    {
     "name": "stdout",
     "output_type": "stream",
     "text": [
      "PosLbl object for position B02.\n",
      "\n",
      "The path to the experiment is: \n",
      " /bigstore/Images2019/Jen/NFkBDynamics/TNFTitr_HighMOI_Dec122019_2019Dec12/acq_2\n",
      "\n",
      "Available channels are : DeepBlue, Green, Red.\n"
     ]
    }
   ],
   "source": [
    "R.PosLbls['B02']()"
   ]
  },
  {
   "cell_type": "code",
   "execution_count": 21,
   "metadata": {},
   "outputs": [
    {
     "data": {
      "text/plain": [
       "array([<oyLabCode.Processing.FrameLbl.FrameLbl object at 0x7ff1ed89cbb0>,\n",
       "       <oyLabCode.Processing.FrameLbl.FrameLbl object at 0x7ff1ed8aa8b0>,\n",
       "       <oyLabCode.Processing.FrameLbl.FrameLbl object at 0x7ff1edfc6460>,\n",
       "       <oyLabCode.Processing.FrameLbl.FrameLbl object at 0x7ff1ed3c1940>,\n",
       "       <oyLabCode.Processing.FrameLbl.FrameLbl object at 0x7ff1ed89e880>,\n",
       "       <oyLabCode.Processing.FrameLbl.FrameLbl object at 0x7ff13fa92d00>,\n",
       "       <oyLabCode.Processing.FrameLbl.FrameLbl object at 0x7ff1ed409100>,\n",
       "       <oyLabCode.Processing.FrameLbl.FrameLbl object at 0x7ff1ed496c70>,\n",
       "       <oyLabCode.Processing.FrameLbl.FrameLbl object at 0x7ff13fa65df0>,\n",
       "       <oyLabCode.Processing.FrameLbl.FrameLbl object at 0x7ff1edc99130>,\n",
       "       <oyLabCode.Processing.FrameLbl.FrameLbl object at 0x7ff20c15a3a0>,\n",
       "       <oyLabCode.Processing.FrameLbl.FrameLbl object at 0x7ff13f7d4e50>,\n",
       "       <oyLabCode.Processing.FrameLbl.FrameLbl object at 0x7ff1ed82d4c0>,\n",
       "       <oyLabCode.Processing.FrameLbl.FrameLbl object at 0x7ff1ed409130>,\n",
       "       <oyLabCode.Processing.FrameLbl.FrameLbl object at 0x7ff1ed409160>,\n",
       "       <oyLabCode.Processing.FrameLbl.FrameLbl object at 0x7ff1ed409220>,\n",
       "       <oyLabCode.Processing.FrameLbl.FrameLbl object at 0x7ff1ed82d070>,\n",
       "       <oyLabCode.Processing.FrameLbl.FrameLbl object at 0x7ff1e89490d0>,\n",
       "       <oyLabCode.Processing.FrameLbl.FrameLbl object at 0x7ff1ed409a30>,\n",
       "       <oyLabCode.Processing.FrameLbl.FrameLbl object at 0x7ff1ed4091c0>,\n",
       "       <oyLabCode.Processing.FrameLbl.FrameLbl object at 0x7ff1ed4095e0>,\n",
       "       <oyLabCode.Processing.FrameLbl.FrameLbl object at 0x7ff1eb0a3820>,\n",
       "       <oyLabCode.Processing.FrameLbl.FrameLbl object at 0x7ff1ed8aadf0>,\n",
       "       <oyLabCode.Processing.FrameLbl.FrameLbl object at 0x7ff1ed89c3a0>,\n",
       "       <oyLabCode.Processing.FrameLbl.FrameLbl object at 0x7ff1e7c11130>,\n",
       "       <oyLabCode.Processing.FrameLbl.FrameLbl object at 0x7ff1e7c11520>,\n",
       "       <oyLabCode.Processing.FrameLbl.FrameLbl object at 0x7ff1e8899040>,\n",
       "       <oyLabCode.Processing.FrameLbl.FrameLbl object at 0x7ff1edcb1e80>,\n",
       "       <oyLabCode.Processing.FrameLbl.FrameLbl object at 0x7ff1e8885b80>,\n",
       "       <oyLabCode.Processing.FrameLbl.FrameLbl object at 0x7ff1edfb80d0>,\n",
       "       <oyLabCode.Processing.FrameLbl.FrameLbl object at 0x7ff1e8885850>,\n",
       "       <oyLabCode.Processing.FrameLbl.FrameLbl object at 0x7ff1e8024880>,\n",
       "       <oyLabCode.Processing.FrameLbl.FrameLbl object at 0x7ff1e34bca00>,\n",
       "       <oyLabCode.Processing.FrameLbl.FrameLbl object at 0x7ff1e8841820>,\n",
       "       <oyLabCode.Processing.FrameLbl.FrameLbl object at 0x7ff1ee1ebee0>,\n",
       "       <oyLabCode.Processing.FrameLbl.FrameLbl object at 0x7ff1edb7ec10>,\n",
       "       <oyLabCode.Processing.FrameLbl.FrameLbl object at 0x7ff1e7c11d00>,\n",
       "       <oyLabCode.Processing.FrameLbl.FrameLbl object at 0x7ff1e7c11c70>,\n",
       "       <oyLabCode.Processing.FrameLbl.FrameLbl object at 0x7ff1ed30b0d0>,\n",
       "       <oyLabCode.Processing.FrameLbl.FrameLbl object at 0x7ff1eab8ee20>,\n",
       "       <oyLabCode.Processing.FrameLbl.FrameLbl object at 0x7ff1edbbee20>,\n",
       "       <oyLabCode.Processing.FrameLbl.FrameLbl object at 0x7ff1e85dcb80>,\n",
       "       <oyLabCode.Processing.FrameLbl.FrameLbl object at 0x7ff1e7c11ee0>,\n",
       "       <oyLabCode.Processing.FrameLbl.FrameLbl object at 0x7ff1ee17afa0>,\n",
       "       <oyLabCode.Processing.FrameLbl.FrameLbl object at 0x7ff1eaf98160>,\n",
       "       <oyLabCode.Processing.FrameLbl.FrameLbl object at 0x7ff1ed6b2550>,\n",
       "       <oyLabCode.Processing.FrameLbl.FrameLbl object at 0x7ff1edf16370>,\n",
       "       <oyLabCode.Processing.FrameLbl.FrameLbl object at 0x7ff1e3834df0>,\n",
       "       <oyLabCode.Processing.FrameLbl.FrameLbl object at 0x7ff1dc071280>,\n",
       "       <oyLabCode.Processing.FrameLbl.FrameLbl object at 0x7ff1ed82df70>,\n",
       "       <oyLabCode.Processing.FrameLbl.FrameLbl object at 0x7ff1edba5970>,\n",
       "       <oyLabCode.Processing.FrameLbl.FrameLbl object at 0x7ff1ed3ba2b0>,\n",
       "       <oyLabCode.Processing.FrameLbl.FrameLbl object at 0x7ff1eded5430>,\n",
       "       <oyLabCode.Processing.FrameLbl.FrameLbl object at 0x7ff1dc0051f0>,\n",
       "       <oyLabCode.Processing.FrameLbl.FrameLbl object at 0x7ff1dc002310>,\n",
       "       <oyLabCode.Processing.FrameLbl.FrameLbl object at 0x7ff1e0f55d00>,\n",
       "       <oyLabCode.Processing.FrameLbl.FrameLbl object at 0x7ff1dc002790>,\n",
       "       <oyLabCode.Processing.FrameLbl.FrameLbl object at 0x7ff1dc002280>,\n",
       "       <oyLabCode.Processing.FrameLbl.FrameLbl object at 0x7ff1dc005580>,\n",
       "       <oyLabCode.Processing.FrameLbl.FrameLbl object at 0x7ff1dc002550>,\n",
       "       <oyLabCode.Processing.FrameLbl.FrameLbl object at 0x7ff1dc002f70>,\n",
       "       <oyLabCode.Processing.FrameLbl.FrameLbl object at 0x7ff1dc002ee0>,\n",
       "       <oyLabCode.Processing.FrameLbl.FrameLbl object at 0x7ff1d94a06a0>,\n",
       "       <oyLabCode.Processing.FrameLbl.FrameLbl object at 0x7ff1dc0023a0>,\n",
       "       <oyLabCode.Processing.FrameLbl.FrameLbl object at 0x7ff1de826400>,\n",
       "       <oyLabCode.Processing.FrameLbl.FrameLbl object at 0x7ff1dc002f10>,\n",
       "       <oyLabCode.Processing.FrameLbl.FrameLbl object at 0x7ff1dc005700>,\n",
       "       <oyLabCode.Processing.FrameLbl.FrameLbl object at 0x7ff1edfc48b0>,\n",
       "       <oyLabCode.Processing.FrameLbl.FrameLbl object at 0x7ff1dc00a730>,\n",
       "       <oyLabCode.Processing.FrameLbl.FrameLbl object at 0x7ff1d6e2d070>,\n",
       "       <oyLabCode.Processing.FrameLbl.FrameLbl object at 0x7ff1dc002580>,\n",
       "       <oyLabCode.Processing.FrameLbl.FrameLbl object at 0x7ff1dc005ca0>,\n",
       "       <oyLabCode.Processing.FrameLbl.FrameLbl object at 0x7ff1ed7e8ac0>,\n",
       "       <oyLabCode.Processing.FrameLbl.FrameLbl object at 0x7ff1dc0021f0>,\n",
       "       <oyLabCode.Processing.FrameLbl.FrameLbl object at 0x7ff1d6a0ea90>,\n",
       "       <oyLabCode.Processing.FrameLbl.FrameLbl object at 0x7ff1dc002970>,\n",
       "       <oyLabCode.Processing.FrameLbl.FrameLbl object at 0x7ff1dc002190>,\n",
       "       <oyLabCode.Processing.FrameLbl.FrameLbl object at 0x7ff1d6757d30>,\n",
       "       <oyLabCode.Processing.FrameLbl.FrameLbl object at 0x7ff1e7fe1f10>,\n",
       "       <oyLabCode.Processing.FrameLbl.FrameLbl object at 0x7ff1dc00e100>,\n",
       "       <oyLabCode.Processing.FrameLbl.FrameLbl object at 0x7ff1dc008730>,\n",
       "       <oyLabCode.Processing.FrameLbl.FrameLbl object at 0x7ff1d63437c0>,\n",
       "       <oyLabCode.Processing.FrameLbl.FrameLbl object at 0x7ff1dc0087c0>,\n",
       "       <oyLabCode.Processing.FrameLbl.FrameLbl object at 0x7ff1dc005a00>,\n",
       "       <oyLabCode.Processing.FrameLbl.FrameLbl object at 0x7ff1ed9464c0>,\n",
       "       <oyLabCode.Processing.FrameLbl.FrameLbl object at 0x7ff1dc008e80>,\n",
       "       <oyLabCode.Processing.FrameLbl.FrameLbl object at 0x7ff1dc00e040>,\n",
       "       <oyLabCode.Processing.FrameLbl.FrameLbl object at 0x7ff1dc008430>,\n",
       "       <oyLabCode.Processing.FrameLbl.FrameLbl object at 0x7ff1edbba550>,\n",
       "       <oyLabCode.Processing.FrameLbl.FrameLbl object at 0x7ff1dc008ee0>,\n",
       "       <oyLabCode.Processing.FrameLbl.FrameLbl object at 0x7ff1dc0058e0>,\n",
       "       <oyLabCode.Processing.FrameLbl.FrameLbl object at 0x7ff1dc008f70>,\n",
       "       <oyLabCode.Processing.FrameLbl.FrameLbl object at 0x7ff1dc00ab20>,\n",
       "       <oyLabCode.Processing.FrameLbl.FrameLbl object at 0x7ff1dc0058b0>,\n",
       "       <oyLabCode.Processing.FrameLbl.FrameLbl object at 0x7ff1dc00ac10>,\n",
       "       <oyLabCode.Processing.FrameLbl.FrameLbl object at 0x7ff1dc00afa0>,\n",
       "       <oyLabCode.Processing.FrameLbl.FrameLbl object at 0x7ff1dc00ab80>,\n",
       "       <oyLabCode.Processing.FrameLbl.FrameLbl object at 0x7ff1dc005d60>,\n",
       "       <oyLabCode.Processing.FrameLbl.FrameLbl object at 0x7ff1dc00af10>,\n",
       "       <oyLabCode.Processing.FrameLbl.FrameLbl object at 0x7ff1dc00aa90>,\n",
       "       <oyLabCode.Processing.FrameLbl.FrameLbl object at 0x7ff1dc00abb0>,\n",
       "       <oyLabCode.Processing.FrameLbl.FrameLbl object at 0x7ff1dc00a790>,\n",
       "       <oyLabCode.Processing.FrameLbl.FrameLbl object at 0x7ff1dc0124c0>,\n",
       "       <oyLabCode.Processing.FrameLbl.FrameLbl object at 0x7ff1dc012670>,\n",
       "       <oyLabCode.Processing.FrameLbl.FrameLbl object at 0x7ff1dc0101f0>,\n",
       "       <oyLabCode.Processing.FrameLbl.FrameLbl object at 0x7ff1dc012040>,\n",
       "       <oyLabCode.Processing.FrameLbl.FrameLbl object at 0x7ff1dc09f160>,\n",
       "       <oyLabCode.Processing.FrameLbl.FrameLbl object at 0x7ff1dc010430>,\n",
       "       <oyLabCode.Processing.FrameLbl.FrameLbl object at 0x7ff1dc008cd0>,\n",
       "       <oyLabCode.Processing.FrameLbl.FrameLbl object at 0x7ff1d62ac5b0>,\n",
       "       <oyLabCode.Processing.FrameLbl.FrameLbl object at 0x7ff1cd0af940>,\n",
       "       <oyLabCode.Processing.FrameLbl.FrameLbl object at 0x7ff1cd103c70>,\n",
       "       <oyLabCode.Processing.FrameLbl.FrameLbl object at 0x7ff1dc010580>,\n",
       "       <oyLabCode.Processing.FrameLbl.FrameLbl object at 0x7ff1dc0103d0>,\n",
       "       <oyLabCode.Processing.FrameLbl.FrameLbl object at 0x7ff1e0fcc640>,\n",
       "       <oyLabCode.Processing.FrameLbl.FrameLbl object at 0x7ff1dc012cd0>,\n",
       "       <oyLabCode.Processing.FrameLbl.FrameLbl object at 0x7ff1dc00aee0>,\n",
       "       <oyLabCode.Processing.FrameLbl.FrameLbl object at 0x7ff1dc012dc0>,\n",
       "       <oyLabCode.Processing.FrameLbl.FrameLbl object at 0x7ff1dc0104c0>,\n",
       "       <oyLabCode.Processing.FrameLbl.FrameLbl object at 0x7ff1dc012430>,\n",
       "       <oyLabCode.Processing.FrameLbl.FrameLbl object at 0x7ff1d3759a30>,\n",
       "       <oyLabCode.Processing.FrameLbl.FrameLbl object at 0x7ff1dc012e50>,\n",
       "       <oyLabCode.Processing.FrameLbl.FrameLbl object at 0x7ff1dc010820>,\n",
       "       <oyLabCode.Processing.FrameLbl.FrameLbl object at 0x7ff1ca9da0d0>,\n",
       "       <oyLabCode.Processing.FrameLbl.FrameLbl object at 0x7ff1dbff0400>,\n",
       "       <oyLabCode.Processing.FrameLbl.FrameLbl object at 0x7ff1cd01e490>,\n",
       "       <oyLabCode.Processing.FrameLbl.FrameLbl object at 0x7ff1cd023820>,\n",
       "       <oyLabCode.Processing.FrameLbl.FrameLbl object at 0x7ff1d6ce2790>,\n",
       "       <oyLabCode.Processing.FrameLbl.FrameLbl object at 0x7ff1e11580d0>,\n",
       "       <oyLabCode.Processing.FrameLbl.FrameLbl object at 0x7ff1d3757bb0>,\n",
       "       <oyLabCode.Processing.FrameLbl.FrameLbl object at 0x7ff1d3503940>,\n",
       "       <oyLabCode.Processing.FrameLbl.FrameLbl object at 0x7ff1dc002610>,\n",
       "       <oyLabCode.Processing.FrameLbl.FrameLbl object at 0x7ff1e3877070>,\n",
       "       <oyLabCode.Processing.FrameLbl.FrameLbl object at 0x7ff1ca7961c0>,\n",
       "       <oyLabCode.Processing.FrameLbl.FrameLbl object at 0x7ff1cd01b250>,\n",
       "       <oyLabCode.Processing.FrameLbl.FrameLbl object at 0x7ff1cd0181f0>,\n",
       "       <oyLabCode.Processing.FrameLbl.FrameLbl object at 0x7ff13f7c3e20>,\n",
       "       <oyLabCode.Processing.FrameLbl.FrameLbl object at 0x7ff1cd01b550>,\n",
       "       <oyLabCode.Processing.FrameLbl.FrameLbl object at 0x7ff1cd023400>,\n",
       "       <oyLabCode.Processing.FrameLbl.FrameLbl object at 0x7ff1dbc33e20>,\n",
       "       <oyLabCode.Processing.FrameLbl.FrameLbl object at 0x7ff1cd02f550>,\n",
       "       <oyLabCode.Processing.FrameLbl.FrameLbl object at 0x7ff1cd018f70>,\n",
       "       <oyLabCode.Processing.FrameLbl.FrameLbl object at 0x7ff1cd02f880>,\n",
       "       <oyLabCode.Processing.FrameLbl.FrameLbl object at 0x7ff1cd07d5b0>,\n",
       "       <oyLabCode.Processing.FrameLbl.FrameLbl object at 0x7ff1cd018370>],\n",
       "      dtype=object)"
      ]
     },
     "execution_count": 21,
     "metadata": {},
     "output_type": "execute_result"
    }
   ],
   "source": [
    "R.PosLbls['B02'].framelabels"
   ]
  },
  {
   "cell_type": "code",
   "execution_count": 62,
   "metadata": {},
   "outputs": [
    {
     "data": {
      "text/plain": [
       "0      148\n",
       "1      536\n",
       "2      276\n",
       "3      540\n",
       "4      176\n",
       "      ... \n",
       "597    608\n",
       "598    280\n",
       "599    208\n",
       "600    284\n",
       "601     84\n",
       "Name: area, Length: 602, dtype: int64"
      ]
     },
     "execution_count": 62,
     "metadata": {},
     "output_type": "execute_result"
    }
   ],
   "source": [
    "R.PosLbls['B02'].framelabels[100].area"
   ]
  },
  {
   "cell_type": "code",
   "execution_count": 63,
   "metadata": {},
   "outputs": [
    {
     "data": {
      "text/plain": [
       "0      148\n",
       "1      536\n",
       "2      276\n",
       "3      540\n",
       "4      176\n",
       "      ... \n",
       "597    608\n",
       "598    280\n",
       "599    208\n",
       "600    284\n",
       "601     84\n",
       "Name: area, Length: 602, dtype: int64"
      ]
     },
     "execution_count": 63,
     "metadata": {},
     "output_type": "execute_result"
    }
   ],
   "source": [
    "R.PosLbls['B02'].area[100]"
   ]
  },
  {
   "cell_type": "code",
   "execution_count": 65,
   "metadata": {},
   "outputs": [
    {
     "data": {
      "text/plain": [
       "0       184\n",
       "1       520\n",
       "2       504\n",
       "3       540\n",
       "4       352\n",
       "       ... \n",
       "1225    340\n",
       "1226    252\n",
       "1227    180\n",
       "1228    164\n",
       "1229    200\n",
       "Name: area, Length: 1230, dtype: int64"
      ]
     },
     "execution_count": 65,
     "metadata": {},
     "output_type": "execute_result"
    }
   ],
   "source": [
    "R.PosLbls['B02'].area[0]"
   ]
  },
  {
   "cell_type": "code",
   "execution_count": 83,
   "metadata": {},
   "outputs": [
    {
     "name": "stdout",
     "output_type": "stream",
     "text": [
      "linking frame 143\n",
      "Finished connecting tracks\n"
     ]
    }
   ],
   "source": [
    "R.PosLbls['B02'].trackcells(ch='Green')"
   ]
  },
  {
   "cell_type": "code",
   "execution_count": 84,
   "metadata": {},
   "outputs": [
    {
     "data": {
      "text/plain": [
       "array([1028, 1048, 1100, 1104, 1116, 1068,  864,  824,  816,  848,  796,\n",
       "        840,  232,  368,  360,  356,  488,  500,  500,  520,  304, 1160,\n",
       "       1080,  788,  980, 1052, 1068, 1080, 1132, 1168, 1116, 1068, 1164,\n",
       "       1100, 1020,  928,  488,  424,  444,  472, 1068,  960, 1028,  972,\n",
       "       1072, 1088, 1072, 1060,  620,  632,  476,  392,  720,  716,  704,\n",
       "        652,  724,  724,  224,  192,  200,  180,  184,  168,  184,  252,\n",
       "        276,  284,  276,  356,  388,  380,  400,  348,  328,  276,  244,\n",
       "        620,  352,  228,  328,  320,  440,  384,  324,  296,  308,  176,\n",
       "        184,  216,  336,  436,  392,  440,  252,  200,  256,  264,  364,\n",
       "        300,  336,  352,  420,  412,  492,  512,  488,  500,  572,  392,\n",
       "         96,  412,  280,  280,  284,  240,  236,  212,  204,  180,  160,\n",
       "        152,  152,  184,  196,  188,  180,  136,  156,  164,  220,  224,\n",
       "        152,  272,  332,  364,  300,  212,  220,  224,  256,  228,  264,\n",
       "        288,  424])"
      ]
     },
     "execution_count": 84,
     "metadata": {},
     "output_type": "execute_result"
    }
   ],
   "source": [
    "R.PosLbls['B02'].track(0).area"
   ]
  },
  {
   "cell_type": "code",
   "execution_count": null,
   "metadata": {},
   "outputs": [],
   "source": [
    "R.save()"
   ]
  }
 ],
 "metadata": {
  "kernelspec": {
   "display_name": "oyproc",
   "language": "python",
   "name": "oyproc"
  },
  "language_info": {
   "codemirror_mode": {
    "name": "ipython",
    "version": 3
   },
   "file_extension": ".py",
   "mimetype": "text/x-python",
   "name": "python",
   "nbconvert_exporter": "python",
   "pygments_lexer": "ipython3",
   "version": "3.8.3"
  }
 },
 "nbformat": 4,
 "nbformat_minor": 4
}
