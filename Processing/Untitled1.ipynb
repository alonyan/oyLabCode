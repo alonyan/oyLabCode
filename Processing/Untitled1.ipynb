{
 "cells": [
  {
   "cell_type": "code",
   "execution_count": null,
   "metadata": {},
   "outputs": [],
   "source": [
    "function [p,s]=perdecomp3D(u,varargin)\n",
    "% %   u : \"input graylevel image\",\n",
    "% %   p : \"periodic component\",\n",
    "% %   s : \"smooth component\"\n",
    "\n",
    "[nx,ny,nz] = size(u);\n",
    "  s = zeros(nx,ny,nz);\n",
    "\n",
    "% %    fill \"boundary image\" \n",
    "  b1 = double(u(nx,:,:) - u(1,:,:));\n",
    "  b2 = double(u(:,ny,:) - u(:,1,:));\n",
    "  b3 = double(u(:,:,nz) - u(:,:,1));\n",
    "  \n",
    "  s(1,:,:)  = - b1;\n",
    "  s(nx,:,:) =  b1; \n",
    "  \n",
    "  s(:,1,:)  = s(:,1,:) - b2;\n",
    "  s(:,ny,:) = s(:,ny,:) + b2;\n",
    "  \n",
    "  s(:,:,1)  = s(:,:,1) - b3;\n",
    "  s(:,:,nz) = s(:,:,nz) + b3;\n",
    "\n",
    "% %   Fourier transform \n",
    "  fft3_s=fftn(s);\n",
    " \n",
    "  cx = 2.0*pi/double(nx);\n",
    "  cy = 2.0*pi/double(ny);\n",
    "  cz = 2.0*pi/double(nz);\n",
    "\n",
    "% %  frequencies computation\n",
    "  mat_x=double(repmat([0:(round(nx/2)-1) (floor(nx/2)):-1:1]',[1,ny,nz]));\n",
    "  mat_y=double(repmat([0:(round(ny/2)-1) (floor(ny/2)):-1:1],[nx,1,nz]));\n",
    "  mat_z=permute(double(repmat([0:(round(nz/2)-1) (floor(nz/2)):-1:1],[nx,1,ny])),[1 3 2]);\n",
    "\n",
    "  b=0.5./double(3.0-cos(cx*mat_x)-cos(cy*mat_y)-cos(cz*mat_z));\n",
    "  fft3_s = fft3_s .* b;\n",
    "  \n",
    "% %  (0,0) frequency\n",
    "  fft3_s(1,1,1) = 0.0;\n",
    "  \n",
    "% %  inverse Fourier transform \n",
    "  s=real(ifftn(fft3_s));\n",
    "  \n",
    "% %   get p=u-s \n",
    "  p = double(u)-s;"
   ]
  }
 ],
 "metadata": {
  "kernelspec": {
   "display_name": "ScopeDev",
   "language": "python",
   "name": "scopedev"
  },
  "language_info": {
   "codemirror_mode": {
    "name": "ipython",
    "version": 3
   },
   "file_extension": ".py",
   "mimetype": "text/x-python",
   "name": "python",
   "nbconvert_exporter": "python",
   "pygments_lexer": "ipython3",
   "version": "3.7.7"
  }
 },
 "nbformat": 4,
 "nbformat_minor": 4
}
