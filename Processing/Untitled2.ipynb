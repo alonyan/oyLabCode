{
 "cells": [
  {
   "cell_type": "code",
   "execution_count": 1,
   "metadata": {},
   "outputs": [],
   "source": [
    "%load_ext autoreload\n",
    "%autoreload 2\n",
    "\n",
    "import sys\n",
    "import os\n",
    "\n",
    "import numpy as np\n",
    "nb_dir = '/home/alon/Repos/'\n",
    "if nb_dir not in sys.path:\n",
    "    sys.path.append(nb_dir)\n",
    "sys.path\n",
    "#import Utilities as utl\n",
    "import matplotlib.pyplot as plt"
   ]
  },
  {
   "cell_type": "code",
   "execution_count": 2,
   "metadata": {},
   "outputs": [
    {
     "name": "stdout",
     "output_type": "stream",
     "text": [
      "loaded Metadata from pickle file\n"
     ]
    }
   ],
   "source": [
    "fpath = '/bigstore/Images2019/Jen/NFkBDynamics/TNFTitr_HighMOI_Dec122019_2019Dec12/acq_2'\n",
    "from oyLabCode import Metadata\n",
    "MD = Metadata(fpath)"
   ]
  },
  {
   "cell_type": "code",
   "execution_count": 82,
   "metadata": {},
   "outputs": [
    {
     "name": "stdout",
     "output_type": "stream",
     "text": [
      "opening img_D02_000000145_000000144_DeepBlue_000_001.tif\n",
      "calculating drift correction for position D02\n",
      "\n",
      "calculated drift correction for position D02\n",
      "saved metadata\n"
     ]
    },
    {
     "data": {
      "text/plain": [
       "52.643532276153564"
      ]
     },
     "execution_count": 82,
     "metadata": {},
     "output_type": "execute_result"
    }
   ],
   "source": [
    "import time\n",
    "t = time.time()\n",
    "MD.CalculateDriftCorrection(MD.posnames[2])\n",
    "time.time()-t"
   ]
  },
  {
   "cell_type": "code",
   "execution_count": 85,
   "metadata": {},
   "outputs": [
    {
     "name": "stdout",
     "output_type": "stream",
     "text": [
      "opening img_D02_000000145_000000144_DeepBlue_000_001.tif"
     ]
    }
   ],
   "source": [
    "img = MD.stkread(Position=MD.posnames[2],Channel='DeepBlue',register=False)\n"
   ]
  },
  {
   "cell_type": "code",
   "execution_count": 86,
   "metadata": {},
   "outputs": [],
   "source": [
    "import napari\n",
    "with napari.gui_qt():\n",
    "    viewer = napari.view_image(img, rgb=False)"
   ]
  },
  {
   "cell_type": "code",
   "execution_count": 4,
   "metadata": {},
   "outputs": [
    {
     "data": {
      "text/plain": [
       "(145, 2048, 2448)"
      ]
     },
     "execution_count": 4,
     "metadata": {},
     "output_type": "execute_result"
    }
   ],
   "source": [
    "img.shape"
   ]
  },
  {
   "cell_type": "code",
   "execution_count": 4,
   "metadata": {},
   "outputs": [],
   "source": [
    "from scipy.signal import fftconvolve\n",
    "\n",
    "DataPost = img[1:,:,:]\n",
    "DataPre = img[:-1,:,:]\n",
    "\n",
    "        ##this is in prep for # Zs>1\n",
    "        #DataPre = np.reshape(DataPre,(DataPre.shape[1],DataPre.shape[2],len(ZsToLoad), len(frames)-1));\n",
    "        #DataPost = np.reshape(DataPost,(DataPost.shape[1],DataPost.shape[2],len(ZsToLoad), len(frames)-1));"
   ]
  },
  {
   "cell_type": "code",
   "execution_count": 6,
   "metadata": {},
   "outputs": [],
   "source": [
    "from pyfftw.interfaces.numpy_fft import fft2, ifft2"
   ]
  },
  {
   "cell_type": "code",
   "execution_count": 11,
   "metadata": {},
   "outputs": [],
   "source": [
    "import time\n",
    "t=time.time()\n",
    "img_fft_1 = np.fft.fftshift(fft2(DataPre-np.mean(DataPre,axis=(1,2),keepdims=True),axes=(1,2)),axes=(1,2))\n",
    "img_fft_2 = np.fft.fftshift(fft2(np.rot90(DataPost-np.mean(DataPost,axis=(1,2),keepdims=True),axes=(1, 2),k=2),axes=(1,2)),axes=(1,2))\n",
    "imXcorr = np.abs(np.fft.ifftshift(ifft2(img_fft_1*img_fft_2,axes=(1,2))))\n",
    "print(time.time()-t)"
   ]
  },
  {
   "cell_type": "code",
   "execution_count": 13,
   "metadata": {},
   "outputs": [
    {
     "name": "stdout",
     "output_type": "stream",
     "text": [
      "141.09859704971313\n"
     ]
    }
   ],
   "source": [
    "import time\n",
    "A = (DataPre-np.mean(DataPre,axis=(1,2),keepdims=True))\n",
    "B = np.rot90(DataPost-np.mean(DataPost,axis=(1,2),keepdims=True),axes=(1, 2),k=2)\n",
    "\n",
    "t=time.time()\n",
    "img_fft_1 = fft2(A,axes=(1,2))\n",
    "img_fft_2 = fft2(B,axes=(1,2))\n",
    "imXcorr = np.abs(np.fft.ifftshift(ifft2(img_fft_1*img_fft_2,axes=(1,2))))\n",
    "print(time.time()-t)"
   ]
  },
  {
   "cell_type": "code",
   "execution_count": 14,
   "metadata": {},
   "outputs": [],
   "source": [
    "import napari\n",
    "with napari.gui_qt():\n",
    "    viewer = napari.view_image(imXcorr, rgb=False)"
   ]
  },
  {
   "cell_type": "code",
   "execution_count": null,
   "metadata": {},
   "outputs": [],
   "source": []
  },
  {
   "cell_type": "code",
   "execution_count": 7,
   "metadata": {},
   "outputs": [],
   "source": [
    "#calculate cross correlation\n",
    "imXcorr = fftconvolve((DataPre-np.mean(DataPre,axis=(1,2),keepdims=True)), np.rot90(DataPost-np.mean(DataPost,axis=(1,2),keepdims=True),axes=(1, 2),k=2), mode='same', axes=[1,2])"
   ]
  },
  {
   "cell_type": "code",
   "execution_count": 72,
   "metadata": {},
   "outputs": [
    {
     "name": "stdout",
     "output_type": "stream",
     "text": [
      "opening img_D02_000000145_000000144_DeepBlue_000_001.tif\n",
      "calculating drift correction for position D02\n"
     ]
    }
   ],
   "source": [
    "from pyfftw.interfaces.numpy_fft import rfft2, irfft2\n",
    "        \n",
    "frames = MD.frames\n",
    "ZsToLoad=[1]\n",
    "pos = MD.posnames[2]\n",
    "DataPre = MD.stkread(Position=MD.posnames[2],Channel='DeepBlue',register=False)\n",
    "print('\\ncalculating drift correction for position ' + pos)\n",
    "\n",
    "DataPre = DataPre-np.mean(DataPre,axis=(1,2),keepdims=True)\n",
    "                                  \n",
    "DataPost = DataPre[1:,:,:].transpose((1,2,0))\n",
    "DataPre = DataPre[:-1,:,:].transpose((1,2,0))\n",
    "\n",
    "#this is in prep for # Zs>1\n",
    "DataPre = np.reshape(DataPre,(DataPre.shape[0],DataPre.shape[1],len(ZsToLoad), len(frames)-1));\n",
    "DataPost = np.reshape(DataPost,(DataPost.shape[0],DataPost.shape[1],len(ZsToLoad), len(frames)-1));\n",
    "\n",
    "#calculate cross correlation\n",
    "#imXcorr = fftconvolve((DataPre-np.mean(DataPre,axis=(0,1),keepdims=True)), np.rot90(DataPost-np.mean(DataPost,axis=(0,1),keepdims=True),k=2), mode='same', axes=[0,1])\n",
    "\n",
    "DataPost = np.rot90(DataPost,axes=(0, 1),k=2)\n",
    "        \n",
    "imXcorr = np.zeros_like(DataPre)\n",
    "for i in np.arange(DataPre.shape[-1]):\n",
    "    img_fft_1 = rfft2(DataPre[:,:,:,i],axes=(0,1))\n",
    "    img_fft_2 = rfft2(DataPost[:,:,:,i],axes=(0,1))\n",
    "    imXcorr[:,:,:,i] = np.abs(irfft2(img_fft_1*img_fft_2,axes=(0,1)))\n",
    "        \n",
    "        "
   ]
  },
  {
   "cell_type": "code",
   "execution_count": 68,
   "metadata": {},
   "outputs": [
    {
     "data": {
      "text/plain": [
       "29.612560510635376"
      ]
     },
     "execution_count": 68,
     "metadata": {},
     "output_type": "execute_result"
    }
   ],
   "source": [
    "t = time.time()\n",
    "img_fft_1 = rfft2(DataPre,axes=(0,1))\n",
    "time.time()-t"
   ]
  },
  {
   "cell_type": "code",
   "execution_count": 70,
   "metadata": {},
   "outputs": [
    {
     "name": "stdout",
     "output_type": "stream",
     "text": [
      "16.61125922203064\n"
     ]
    }
   ],
   "source": [
    "t = time.time()\n",
    "for i in np.arange(DataPre.shape[-1]):\n",
    "    img_fft_1 = rfft2(DataPre[:,:,:,i],axes=(0,1))\n",
    "print(time.time()-t)"
   ]
  },
  {
   "cell_type": "code",
   "execution_count": 47,
   "metadata": {},
   "outputs": [
    {
     "data": {
      "text/plain": [
       "array([144, 143, 142, 141, 140, 139, 138, 137, 136, 135, 134, 133, 132,\n",
       "       131, 130, 129, 128, 127, 126, 125, 124, 123, 122, 121, 120, 119,\n",
       "       118, 117, 116, 115, 114, 113, 112, 111, 110, 109, 108, 107, 106,\n",
       "       105, 104, 103, 102, 101, 100,  99,  98,  97,  96,  95,  94,  93,\n",
       "        92,  91,  90,  89,  88,  87,  86,  85,  84,  83,  82,  81,  80,\n",
       "        79,  78,  77,  76,  75,  74,  73,  72,  71,  70,  69,  68,  67,\n",
       "        66,  65,  64,  63,  62,  61,  60,  59,  58,  57,  56,  55,  54,\n",
       "        53,  52,  51,  50,  49,  48,  47,  46,  45,  44,  43,  42,  41,\n",
       "        40,  39,  38,  37,  36,  35,  34,  33,  32,  31,  30,  29,  28,\n",
       "        27,  26,  25,  24,  23,  22,  21,  20,  19,  18,  17,  16,  15,\n",
       "        14,  13,  12,  11,  10,   9,   8,   7,   6,   5,   4,   3,   2,\n",
       "         1])"
      ]
     },
     "execution_count": 47,
     "metadata": {},
     "output_type": "execute_result"
    }
   ],
   "source": [
    "np.arange(DataPre.shape[-1],0,-1)"
   ]
  },
  {
   "cell_type": "code",
   "execution_count": 59,
   "metadata": {},
   "outputs": [],
   "source": [
    "import napari\n",
    "with napari.gui_qt():\n",
    "    viewer = napari.view_image(np.squeeze(imXcorr), rgb=False)"
   ]
  },
  {
   "cell_type": "code",
   "execution_count": null,
   "metadata": {},
   "outputs": [],
   "source": [
    " \n",
    "        imXcorr = np.zeros_like(DataPre)\n",
    "        for i in np.arange(DataPre.shape[-1]):\n",
    "            print(i)\n",
    "            img_fft_1 = fft2(np.squeeze(DataPre[:,:,:,i]),axes=(0,1))\n",
    "            img_fft_2 = fft2(np.squeeze(DataPost[:,:,:,i]),axes=(0,1))\n",
    "            imXcorr[:,:,:,i] = np.abs(np.fft.ifftshift(ifft2(img_fft_1*img_fft_2,axes=(0,1))))\n",
    "        \n",
    "        \n",
    "        \n",
    "        #if more than 1 slice is calculated, look for mean shift\n",
    "        imXcorrMeanZ = np.mean(imXcorr,axis=2)\n",
    "        c = []\n",
    "        for i in range(imXcorrMeanZ.shape[-1]):\n",
    "            c.append(np.squeeze(imXcorrMeanZ[:,:,i]).argmax())\n",
    "\n",
    "        d = np.transpose(np.unravel_index(c, np.squeeze(imXcorrMeanZ[:,:,0]).shape))-np.array(np.squeeze(imXcorrMeanZ[:,:,0]).shape)/2\n",
    "        D = np.insert(np.cumsum(d, axis=0), 0, [0,0], axis=0)"
   ]
  }
 ],
 "metadata": {
  "kernelspec": {
   "display_name": "ScopeDev",
   "language": "python",
   "name": "scopedev"
  },
  "language_info": {
   "codemirror_mode": {
    "name": "ipython",
    "version": 3
   },
   "file_extension": ".py",
   "mimetype": "text/x-python",
   "name": "python",
   "nbconvert_exporter": "python",
   "pygments_lexer": "ipython3",
   "version": "3.7.7"
  }
 },
 "nbformat": 4,
 "nbformat_minor": 4
}
